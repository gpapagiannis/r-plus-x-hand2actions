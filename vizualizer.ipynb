{
 "cells": [
  {
   "cell_type": "code",
   "execution_count": null,
   "metadata": {},
   "outputs": [],
   "source": [
    "import open3d as o3d\n",
    "import numpy as np\n",
    "import matplotlib.pyplot as plt\n",
    "from util_functions import *\n",
    "from global_vars import *\n"
   ]
  },
  {
   "cell_type": "code",
   "execution_count": null,
   "metadata": {},
   "outputs": [],
   "source": [
    "# load rgbs, depths and hand joint actions\n",
    "path = 'assets/grap_fanta/'\n",
    "rgbs = np.load(f'{path}rgbs.npy')\n",
    "depths = np.load(f'{path}depths.npy')"
   ]
  },
  {
   "cell_type": "code",
   "execution_count": null,
   "metadata": {},
   "outputs": [],
   "source": [
    "\n",
    "MANO_HAND_IDS = {\"wrist\": 0,        \"index_mcp\": 1,     \"index_pip\": 2, \n",
    "                 \"index_dip\": 3,    \"middle_mcp\": 4,    \"middle_pip\": 5, \n",
    "                 \"middle_dip\": 6,   \"pinkie_mcp\": 7,    \"pinkie_pip\": 8, \n",
    "                 \"pinkie_dip\": 9,   \"ring_mcp\": 10,     \"ring_pip\": 11, \n",
    "                 \"ring_dip\": 12,    \"thumb_mcp\": 13,    \"thumb_pip\": 14, \n",
    "                 \"thumb_dip\": 15,   \"thumb_tip\": 16,    \"index_tip\": 17, \n",
    "                 \"middle_tip\": 18,  \"ring_tip\": 19,     \"pinky_tip\": 20}\n",
    "\n",
    "\"\"\"\n",
    "the below is what you likely need. you can vizualize them\n",
    "at the following cell.\"\"\"\n",
    "actions = np.load(f'{path}/scene_files/hand_joints_kpts_3d.npy')\n",
    "rgbs = rgbs[:len(actions)] # sometimes some actions are missing because they were not extracted during processing as for some frames there were no hand present and so they are automatically discarded\n",
    "depths = depths[:len(actions)]"
   ]
  },
  {
   "cell_type": "code",
   "execution_count": null,
   "metadata": {},
   "outputs": [],
   "source": [
    "\n",
    "\n",
    "idx = 0 # pick the index\n",
    "\n",
    "depth_pcds = []\n",
    "hand_mesh_pcds = []\n",
    "gripper_pcds = []\n",
    "sphere_viz_actions = []\n",
    "depth_pcds_no_stabilization = []\n",
    "hand_joints = []\n",
    "print(rgbs.shape[0])\n",
    "for i in range(rgbs.shape[0]):\n",
    "    print(i)\n",
    "    frame = i\n",
    "    depth_pcd = o3d.io.read_point_cloud(f\"{path}/scene_files/live_image_pcd_{frame}.ply\")\n",
    "    # remove far away depth for visualization\n",
    "    depth_pcd_np = np.asarray(depth_pcd.points)\n",
    "    depth_pcd_cols = np.asarray(depth_pcd.colors)\n",
    "    depth_pcd_cols = depth_pcd_cols[depth_pcd_np[:, 2] < 1]\n",
    "    depth_pcd_np = depth_pcd_np[depth_pcd_np[:, 2] < 1]\n",
    "    depth_pcd.points = o3d.utility.Vector3dVector(depth_pcd_np)\n",
    "    depth_pcd.colors = o3d.utility.Vector3dVector(depth_pcd_cols)\n",
    "\n",
    "    hand_mesh_pcd = o3d.io.read_triangle_mesh(f\"{path}/scene_files/hand_mesh_{frame}.ply\")\n",
    "    gripper_pcd = o3d.io.read_point_cloud(f\"{path}/scene_files/gripper_pcd_{frame}.ply\")\n",
    "    depth_pcds.append(depth_pcd)\n",
    "    hand_mesh_pcds.append(hand_mesh_pcd)\n",
    "    gripper_pcds.append(gripper_pcd)\n",
    "    action = actions[i]\n",
    "    sphere_viz_actions = []\n",
    "    for a in actions[i]:\n",
    "        sphere = o3d.geometry.TriangleMesh.create_sphere(radius=0.005)\n",
    "        sphere.compute_vertex_normals()\n",
    "        sphere.paint_uniform_color([0, 0, 1])\n",
    "        sphere.translate(a)\n",
    "        sphere_viz_actions.append(sphere)\n",
    "        sphere_viz_actions.append(sphere)\n",
    "    hand_joints.append(sphere_viz_actions)\n",
    "\n",
    "\n",
    "o3d.visualization.draw_geometries([depth_pcds[idx], gripper_pcds[idx], hand_mesh_pcds[idx]]) \n",
    "\n"
   ]
  }
 ],
 "metadata": {
  "kernelspec": {
   "display_name": "base",
   "language": "python",
   "name": "python3"
  },
  "language_info": {
   "codemirror_mode": {
    "name": "ipython",
    "version": 3
   },
   "file_extension": ".py",
   "mimetype": "text/x-python",
   "name": "python",
   "nbconvert_exporter": "python",
   "pygments_lexer": "ipython3",
   "version": "3.11.5"
  }
 },
 "nbformat": 4,
 "nbformat_minor": 2
}
